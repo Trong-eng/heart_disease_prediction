{
  "nbformat": 4,
  "nbformat_minor": 0,
  "metadata": {
    "colab": {
      "provenance": []
    },
    "kernelspec": {
      "name": "python3",
      "display_name": "Python 3"
    },
    "language_info": {
      "name": "python"
    }
  },
  "cells": [
    {
      "cell_type": "code",
      "execution_count": 1,
      "metadata": {
        "colab": {
          "base_uri": "https://localhost:8080/"
        },
        "id": "4ZSHR8qZ6TUt",
        "outputId": "69d23617-e401-4f72-8356-b4ee81979e6c"
      },
      "outputs": [
        {
          "output_type": "stream",
          "name": "stdout",
          "text": [
            "Downloading...\n",
            "From: https://drive.google.com/uc?id=1zOj808OstnkaWlltM4qKNjjT3iT3yeMN\n",
            "To: /content/cleveland.csv\n",
            "\r  0% 0.00/10.9k [00:00<?, ?B/s]\r100% 10.9k/10.9k [00:00<00:00, 22.7MB/s]\n"
          ]
        }
      ],
      "source": [
        "!gdown 1zOj808OstnkaWlltM4qKNjjT3iT3yeMN"
      ]
    },
    {
      "cell_type": "code",
      "source": [
        "import numpy as np\n",
        "import pandas as pd\n",
        "from matplotlib import pyplot as plt\n",
        "import seaborn as sns\n",
        "\n",
        "# Bai tap 1\n",
        "df = pd.read_csv('cleveland.csv', header=None)\n",
        "df.columns = ['age', 'sex', 'cp', 'trestbps', 'chol', 'fbs', 'restecg', 'thalach', 'exang', 'oldpeak', 'slope', 'ca', 'thal', 'target']\n",
        "df['target'] = df.target.map({0: 0, 1: 1, 2: 1, 3: 1, 4: 1})\n",
        "df['thal'] = df.thal.fillna(df.thal.mean())\n",
        "df['ca'] = df.ca.fillna(df.ca.mean())\n",
        "\n",
        "# Fill missing target values with mode (most frequent value)\n",
        "df['target'] = df['target'].fillna(df['target'].mode()[0])\n",
        "\n",
        "# Create side-by-side histogram (multiple=\"dodge\" with separate bars for each class)\n",
        "sns.histplot(data=df, x='age', hue='target', multiple='dodge', bins=60, kde=False)\n",
        "\n",
        "# Titles and labels for the plot\n",
        "plt.title('Variation of Age for each target class')\n",
        "plt.xlabel('Age')\n",
        "plt.ylabel('Count')\n",
        "\n",
        "# Show plot\n",
        "plt.show()"
      ],
      "metadata": {
        "colab": {
          "base_uri": "https://localhost:8080/",
          "height": 599
        },
        "id": "DN2lrLg_7COh",
        "outputId": "f99d35d5-8c62-4f04-c1bf-3c6b705bf158"
      },
      "execution_count": 10,
      "outputs": [
        {
          "output_type": "stream",
          "name": "stderr",
          "text": [
            "/usr/local/lib/python3.10/dist-packages/seaborn/_base.py:949: FutureWarning: When grouping with a length-1 list-like, you will need to pass a length-1 tuple to get_group in a future version of pandas. Pass `(name,)` instead of `name` to silence this warning.\n",
            "  data_subset = grouped_data.get_group(pd_key)\n",
            "/usr/local/lib/python3.10/dist-packages/seaborn/_base.py:949: FutureWarning: When grouping with a length-1 list-like, you will need to pass a length-1 tuple to get_group in a future version of pandas. Pass `(name,)` instead of `name` to silence this warning.\n",
            "  data_subset = grouped_data.get_group(pd_key)\n",
            "/usr/local/lib/python3.10/dist-packages/seaborn/_base.py:949: FutureWarning: When grouping with a length-1 list-like, you will need to pass a length-1 tuple to get_group in a future version of pandas. Pass `(name,)` instead of `name` to silence this warning.\n",
            "  data_subset = grouped_data.get_group(pd_key)\n"
          ]
        },
        {
          "output_type": "display_data",
          "data": {
            "text/plain": [
              "<Figure size 640x480 with 1 Axes>"
            ],
            "image/png": "[encoded data removed]"
          },
          "metadata": {}
        }
      ]
    },
    {
      "cell_type": "code",
      "source": [
        "# Import các thư viện cần thiết\n",
        "import numpy as np\n",
        "import pandas as pd\n",
        "from matplotlib import pyplot as plt\n",
        "import seaborn as sns\n",
        "\n",
        "# Đọc dữ liệu từ file CSV\n",
        "df = pd.read_csv('cleveland.csv', header=None)\n",
        "\n",
        "# Đặt tên cột cho dữ liệu\n",
        "df.columns = ['age', 'sex', 'cp', 'trestbps', 'chol', 'fbs', 'restecg', 'thalach',\n",
        "              'exang', 'oldpeak', 'slope', 'ca', 'thal', 'target']\n",
        "\n",
        "# Chuẩn hóa cột 'target', ánh xạ các giá trị 2, 3, 4 về 1 (bị bệnh) và 0 (không bị bệnh)\n",
        "df['target'] = df['target'].map({0: 0, 1: 1, 2: 1, 3: 1, 4: 1})\n",
        "\n",
        "# Xử lý dữ liệu thiếu\n",
        "df['thal'] = df['thal'].fillna(df['thal'].mean())\n",
        "df['ca'] = df['ca'].fillna(df['ca'].mean())\n",
        "\n",
        "# Vẽ biểu đồ thể hiện mối quan hệ giữa độ tuổi, giới tính và khả năng bị bệnh tim\n",
        "plt.figure(figsize=(10, 6))  # Thiết lập kích thước khung vẽ\n",
        "sns.barplot(data=df, x='sex', y='age', hue='target', palette='Set1')\n",
        "plt.title('Distribution of age vs sex with the target class')  # Thêm tiêu đề cho biểu đồ\n",
        "plt.xlabel('sex')  # Thêm nhãn trục x\n",
        "plt.ylabel('age')  # Thêm nhãn trục y\n",
        "plt.show()  # Hiển thị biểu đồ\n"
      ],
      "metadata": {
        "colab": {
          "base_uri": "https://localhost:8080/",
          "height": 655
        },
        "id": "T_Iap-Si7dzZ",
        "outputId": "196da05f-e48b-48b0-e8c9-d149f6aa3287"
      },
      "execution_count": 4,
      "outputs": [
        {
          "output_type": "stream",
          "name": "stderr",
          "text": [
            "/usr/local/lib/python3.10/dist-packages/seaborn/_base.py:949: FutureWarning: When grouping with a length-1 list-like, you will need to pass a length-1 tuple to get_group in a future version of pandas. Pass `(name,)` instead of `name` to silence this warning.\n",
            "  data_subset = grouped_data.get_group(pd_key)\n",
            "/usr/local/lib/python3.10/dist-packages/seaborn/_base.py:949: FutureWarning: When grouping with a length-1 list-like, you will need to pass a length-1 tuple to get_group in a future version of pandas. Pass `(name,)` instead of `name` to silence this warning.\n",
            "  data_subset = grouped_data.get_group(pd_key)\n"
          ]
        },
        {
          "output_type": "display_data",
          "data": {
            "text/plain": [
              "<Figure size 1000x600 with 1 Axes>"
            ],
            "image/png": "[encoded data removed]"
          },
          "metadata": {}
        }
      ]
    },
    {
      "cell_type": "code",
      "source": [
        "# Import các thư viện cần thiết\n",
        "import numpy as np\n",
        "import pandas as pd\n",
        "from sklearn.model_selection import train_test_split\n",
        "from sklearn.neighbors import KNeighborsClassifier\n",
        "from sklearn.metrics import confusion_matrix\n",
        "\n",
        "# Đọc dữ liệu từ file CSV\n",
        "df = pd.read_csv('cleveland.csv', header=None)\n",
        "\n",
        "# Đặt tên cột cho dữ liệu\n",
        "df.columns = ['age', 'sex', 'cp', 'trestbps', 'chol', 'fbs', 'restecg', 'thalach',\n",
        "              'exang', 'oldpeak', 'slope', 'ca', 'thal', 'target']\n",
        "\n",
        "# Chuẩn hóa cột 'target', ánh xạ các giá trị 2, 3, 4 về 1 (bị bệnh) và 0 (không bị bệnh)\n",
        "df['target'] = df['target'].map({0: 0, 1: 1, 2: 1, 3: 1, 4: 1})\n",
        "\n",
        "# Xử lý dữ liệu thiếu\n",
        "df['thal'] = df['thal'].fillna(df['thal'].mean())\n",
        "df['ca'] = df['ca'].fillna(df['ca'].mean())\n",
        "\n",
        "# Phân chia dữ liệu thành X và y\n",
        "X = df.iloc[:, :-1].values  # Các đặc trưng\n",
        "y = df.iloc[:, -1].values  # Nhãn 'target'\n",
        "\n",
        "# Chia tập dữ liệu thành tập huấn luyện và tập kiểm tra\n",
        "X_train, X_test, y_train, y_test = train_test_split(X, y, test_size=0.2, random_state=42)\n",
        "\n",
        "# Khởi tạo và huấn luyện mô hình KNN\n",
        "knn = KNeighborsClassifier(n_neighbors=5, weights='uniform', algorithm='auto',\n",
        "                           leaf_size=30, p=2, metric='minkowski')\n",
        "knn.fit(X_train, y_train)\n",
        "\n",
        "# Dự đoán trên tập huấn luyện và tập kiểm tra\n",
        "y_train_pred = knn.predict(X_train)\n",
        "y_test_pred = knn.predict(X_test)\n",
        "\n",
        "# Tính confusion matrix cho tập huấn luyện và tập kiểm tra\n",
        "cm_train = confusion_matrix(y_train, y_train_pred)\n",
        "cm_test = confusion_matrix(y_test, y_test_pred)\n",
        "\n",
        "# Tính độ chính xác cho tập huấn luyện và tập kiểm tra\n",
        "accuracy_for_train = np.round((cm_train[0][0] + cm_train[1][1]) / len(y_train), 2)\n",
        "accuracy_for_test = np.round((cm_test[0][0] + cm_test[1][1]) / len(y_test), 2)\n",
        "\n",
        "# In kết quả độ chính xác\n",
        "print('Accuracy for training set for KNeighborsClassifier = {}'.format(accuracy_for_train))\n",
        "print('Accuracy for test set for KNeighborsClassifier = {}'.format(accuracy_for_test))\n"
      ],
      "metadata": {
        "colab": {
          "base_uri": "https://localhost:8080/"
        },
        "id": "HZivLlfs8i9i",
        "outputId": "653d0e0c-fb5c-4492-e293-d13caa5c84c5"
      },
      "execution_count": 6,
      "outputs": [
        {
          "output_type": "stream",
          "name": "stdout",
          "text": [
            "Accuracy for training set for KNeighborsClassifier = 0.76\n",
            "Accuracy for test set for KNeighborsClassifier = 0.69\n"
          ]
        }
      ]
    },
    {
      "cell_type": "code",
      "source": [
        "# Import các thư viện cần thiết\n",
        "import numpy as np\n",
        "import pandas as pd\n",
        "from sklearn.model_selection import train_test_split\n",
        "from sklearn.svm import SVC\n",
        "from sklearn.metrics import confusion_matrix\n",
        "\n",
        "# Đọc dữ liệu từ file CSV\n",
        "df = pd.read_csv('cleveland.csv', header=None)\n",
        "\n",
        "# Đặt tên cột cho dữ liệu\n",
        "df.columns = ['age', 'sex', 'cp', 'trestbps', 'chol', 'fbs', 'restecg', 'thalach',\n",
        "              'exang', 'oldpeak', 'slope', 'ca', 'thal', 'target']\n",
        "\n",
        "# Chuẩn hóa cột 'target', ánh xạ các giá trị 2, 3, 4 về 1 (bị bệnh) và 0 (không bị bệnh)\n",
        "df['target'] = df['target'].map({0: 0, 1: 1, 2: 1, 3: 1, 4: 1})\n",
        "\n",
        "# Xử lý dữ liệu thiếu\n",
        "df['thal'] = df['thal'].fillna(df['thal'].mean())\n",
        "df['ca'] = df['ca'].fillna(df['ca'].mean())\n",
        "\n",
        "# Phân chia dữ liệu thành X và y\n",
        "X = df.iloc[:, :-1].values  # Các đặc trưng\n",
        "y = df.iloc[:, -1].values  # Nhãn 'target'\n",
        "\n",
        "# Chia tập dữ liệu thành tập huấn luyện và tập kiểm tra\n",
        "X_train, X_test, y_train, y_test = train_test_split(X, y, test_size=0.2, random_state=42)\n",
        "\n",
        "# Khởi tạo và huấn luyện mô hình SVM\n",
        "svm = SVC(kernel='rbf', random_state=42)\n",
        "svm.fit(X_train, y_train)\n",
        "\n",
        "# Dự đoán trên tập huấn luyện và tập kiểm tra\n",
        "y_train_pred = svm.predict(X_train)\n",
        "y_test_pred = svm.predict(X_test)\n",
        "\n",
        "# Tính confusion matrix cho tập huấn luyện và tập kiểm tra\n",
        "cm_train = confusion_matrix(y_train, y_train_pred)\n",
        "cm_test = confusion_matrix(y_test, y_test_pred)\n",
        "\n",
        "# Tính độ chính xác cho tập huấn luyện và tập kiểm tra\n",
        "accuracy_for_train = np.round((cm_train[0][0] + cm_train[1][1]) / len(y_train), 2)\n",
        "accuracy_for_test = np.round((cm_test[0][0] + cm_test[1][1]) / len(y_test), 2)\n",
        "\n",
        "# In kết quả độ chính xác\n",
        "print('Accuracy for training set for SVM = {}'.format(accuracy_for_train))\n",
        "print('Accuracy for test set for SVM = {}'.format(accuracy_for_test))\n"
      ],
      "metadata": {
        "colab": {
          "base_uri": "https://localhost:8080/"
        },
        "id": "4V-NZc2p9CjS",
        "outputId": "c4e4b360-3647-43ee-bc1a-eba0a0ed32e1"
      },
      "execution_count": 7,
      "outputs": [
        {
          "output_type": "stream",
          "name": "stdout",
          "text": [
            "Accuracy for training set for SVM = 0.66\n",
            "Accuracy for test set for SVM = 0.67\n"
          ]
        }
      ]
    },
    {
      "cell_type": "code",
      "source": [
        "# Import các thư viện cần thiết\n",
        "import numpy as np\n",
        "import pandas as pd\n",
        "from sklearn.model_selection import train_test_split\n",
        "from sklearn.naive_bayes import GaussianNB\n",
        "from sklearn.metrics import confusion_matrix\n",
        "\n",
        "# Đọc dữ liệu từ file CSV\n",
        "df = pd.read_csv('cleveland.csv', header=None)\n",
        "\n",
        "# Đặt tên cột cho dữ liệu\n",
        "df.columns = ['age', 'sex', 'cp', 'trestbps', 'chol', 'fbs', 'restecg', 'thalach',\n",
        "              'exang', 'oldpeak', 'slope', 'ca', 'thal', 'target']\n",
        "\n",
        "# Chuẩn hóa cột 'target', ánh xạ các giá trị 2, 3, 4 về 1 (bị bệnh) và 0 (không bị bệnh)\n",
        "df['target'] = df['target'].map({0: 0, 1: 1, 2: 1, 3: 1, 4: 1})\n",
        "\n",
        "# Xử lý dữ liệu thiếu\n",
        "df['thal'] = df['thal'].fillna(df['thal'].mean())\n",
        "df['ca'] = df['ca'].fillna(df['ca'].mean())\n",
        "\n",
        "# Phân chia dữ liệu thành X và y\n",
        "X = df.iloc[:, :-1].values  # Các đặc trưng\n",
        "y = df.iloc[:, -1].values  # Nhãn 'target'\n",
        "\n",
        "# Chia tập dữ liệu thành tập huấn luyện và tập kiểm tra\n",
        "X_train, X_test, y_train, y_test = train_test_split(X, y, test_size=0.2, random_state=42)\n",
        "\n",
        "# Khởi tạo và huấn luyện mô hình Naive Bayes\n",
        "nb = GaussianNB()\n",
        "nb.fit(X_train, y_train)\n",
        "\n",
        "# Dự đoán trên tập huấn luyện và tập kiểm tra\n",
        "y_train_pred = nb.predict(X_train)\n",
        "y_test_pred = nb.predict(X_test)\n",
        "\n",
        "# Tính confusion matrix cho tập huấn luyện và tập kiểm tra\n",
        "cm_train = confusion_matrix(y_train, y_train_pred)\n",
        "cm_test = confusion_matrix(y_test, y_test_pred)\n",
        "\n",
        "# Tính độ chính xác cho tập huấn luyện và tập kiểm tra\n",
        "accuracy_for_train = np.round((cm_train[0][0] + cm_train[1][1]) / len(y_train), 2)\n",
        "accuracy_for_test = np.round((cm_test[0][0] + cm_test[1][1]) / len(y_test), 2)\n",
        "\n",
        "# In kết quả độ chính xác\n",
        "print('Accuracy for training set for Naive Bayes = {}'.format(accuracy_for_train))\n",
        "print('Accuracy for test set for Naive Bayes = {}'.format(accuracy_for_test))\n"
      ],
      "metadata": {
        "colab": {
          "base_uri": "https://localhost:8080/"
        },
        "id": "Ue7HiTby9kR1",
        "outputId": "cfdabadb-9c94-47a7-b100-f192fa5b853d"
      },
      "execution_count": 8,
      "outputs": [
        {
          "output_type": "stream",
          "name": "stdout",
          "text": [
            "Accuracy for training set for Naive Bayes = 0.85\n",
            "Accuracy for test set for Naive Bayes = 0.84\n"
          ]
        }
      ]
    },
    {
      "cell_type": "code",
      "source": [
        "# Import các thư viện cần thiết\n",
        "import numpy as np\n",
        "import pandas as pd\n",
        "from sklearn.model_selection import train_test_split\n",
        "from sklearn.tree import DecisionTreeClassifier\n",
        "from sklearn.metrics import confusion_matrix\n",
        "\n",
        "# Đọc dữ liệu từ file CSV\n",
        "df = pd.read_csv('cleveland.csv', header=None)\n",
        "\n",
        "# Đặt tên cột cho dữ liệu\n",
        "df.columns = ['age', 'sex', 'cp', 'trestbps', 'chol', 'fbs', 'restecg', 'thalach',\n",
        "              'exang', 'oldpeak', 'slope', 'ca', 'thal', 'target']\n",
        "\n",
        "# Chuẩn hóa cột 'target', ánh xạ các giá trị 2, 3, 4 về 1 (bị bệnh) và 0 (không bị bệnh)\n",
        "df['target'] = df['target'].map({0: 0, 1: 1, 2: 1, 3: 1, 4: 1})\n",
        "\n",
        "# Xử lý dữ liệu thiếu\n",
        "df['thal'] = df['thal'].fillna(df['thal'].mean())\n",
        "df['ca'] = df['ca'].fillna(df['ca'].mean())\n",
        "\n",
        "# Phân chia dữ liệu thành X và y\n",
        "X = df.iloc[:, :-1].values  # Các đặc trưng\n",
        "y = df.iloc[:, -1].values  # Nhãn 'target'\n",
        "\n",
        "# Chia tập dữ liệu thành tập huấn luyện và tập kiểm tra\n",
        "X_train, X_test, y_train, y_test = train_test_split(X, y, test_size=0.2, random_state=42)\n",
        "\n",
        "# Khởi tạo và huấn luyện mô hình Decision Tree\n",
        "dt = DecisionTreeClassifier(criterion='gini', max_depth=10, min_samples_split=2, random_state=42)\n",
        "dt.fit(X_train, y_train)\n",
        "\n",
        "# Dự đoán trên tập huấn luyện và tập kiểm tra\n",
        "y_train_pred = dt.predict(X_train)\n",
        "y_test_pred = dt.predict(X_test)\n",
        "\n",
        "# Tính confusion matrix cho tập huấn luyện và tập kiểm tra\n",
        "cm_train = confusion_matrix(y_train, y_train_pred)\n",
        "cm_test = confusion_matrix(y_test, y_test_pred)\n",
        "\n",
        "# Tính độ chính xác cho tập huấn luyện và tập kiểm tra\n",
        "accuracy_for_train = np.round((cm_train[0][0] + cm_train[1][1]) / len(y_train), 2)\n",
        "accuracy_for_test = np.round((cm_test[0][0] + cm_test[1][1]) / len(y_test), 2)\n",
        "\n",
        "# In kết quả độ chính xác\n",
        "print('Accuracy for training set for Decision Tree = {}'.format(accuracy_for_train))\n",
        "print('Accuracy for test set for Decision Tree = {}'.format(accuracy_for_test))\n"
      ],
      "metadata": {
        "colab": {
          "base_uri": "https://localhost:8080/"
        },
        "id": "LQH79L6NAEKg",
        "outputId": "1abe9d82-9923-4745-d8fd-94ccdf5dc0ff"
      },
      "execution_count": 9,
      "outputs": [
        {
          "output_type": "stream",
          "name": "stdout",
          "text": [
            "Accuracy for training set for Decision Tree = 1.0\n",
            "Accuracy for test set for Decision Tree = 0.75\n"
          ]
        }
      ]
    },
    {
      "cell_type": "code",
      "source": [
        "# Import các thư viện cần thiết\n",
        "import numpy as np\n",
        "import pandas as pd\n",
        "from sklearn.model_selection import train_test_split\n",
        "from sklearn.ensemble import RandomForestClassifier\n",
        "from sklearn.metrics import confusion_matrix\n",
        "\n",
        "# Đọc dữ liệu từ file CSV\n",
        "df = pd.read_csv('cleveland.csv', header=None)\n",
        "\n",
        "# Đặt tên cột cho dữ liệu\n",
        "df.columns = ['age', 'sex', 'cp', 'trestbps', 'chol', 'fbs', 'restecg', 'thalach',\n",
        "              'exang', 'oldpeak', 'slope', 'ca', 'thal', 'target']\n",
        "\n",
        "# Chuẩn hóa cột 'target', ánh xạ các giá trị 2, 3, 4 về 1 (bị bệnh) và 0 (không bị bệnh)\n",
        "df['target'] = df['target'].map({0: 0, 1: 1, 2: 1, 3: 1, 4: 1})\n",
        "\n",
        "# Xử lý dữ liệu thiếu\n",
        "df['thal'] = df['thal'].fillna(df['thal'].mean())\n",
        "df['ca'] = df['ca'].fillna(df['ca'].mean())\n",
        "\n",
        "# Phân chia dữ liệu thành X và y\n",
        "X = df.iloc[:, :-1].values  # Các đặc trưng\n",
        "y = df.iloc[:, -1].values  # Nhãn 'target'\n",
        "\n",
        "# Chia tập dữ liệu thành tập huấn luyện và tập kiểm tra\n",
        "X_train, X_test, y_train, y_test = train_test_split(X, y, test_size=0.2, random_state=42)\n",
        "\n",
        "# Khởi tạo và huấn luyện mô hình Random Forest\n",
        "rf = RandomForestClassifier(criterion='gini', max_depth=10, min_samples_split=2,\n",
        "                            n_estimators=10, random_state=42)\n",
        "rf.fit(X_train, y_train)\n",
        "\n",
        "# Dự đoán trên tập huấn luyện và tập kiểm tra\n",
        "y_train_pred = rf.predict(X_train)\n",
        "y_test_pred = rf.predict(X_test)\n",
        "\n",
        "# Tính confusion matrix cho tập huấn luyện và tập kiểm tra\n",
        "cm_train = confusion_matrix(y_train, y_train_pred)\n",
        "cm_test = confusion_matrix(y_test, y_test_pred)\n",
        "\n",
        "# Tính độ chính xác cho tập huấn luyện và tập kiểm tra\n",
        "accuracy_for_train = np.round((cm_train[0][0] + cm_train[1][1]) / len(y_train), 2)\n",
        "accuracy_for_test = np.round((cm_test[0][0] + cm_test[1][1]) / len(y_test), 2)\n",
        "\n",
        "# In kết quả độ chính xác\n",
        "print('Accuracy for training set for Random Forest = {}'.format(accuracy_for_train))\n",
        "print('Accuracy for test set for Random Forest = {}'.format(accuracy_for_test))\n"
      ],
      "metadata": {
        "colab": {
          "base_uri": "https://localhost:8080/"
        },
        "id": "Q1Ozqc4TAkDk",
        "outputId": "ec0b9841-7a93-4254-a7a0-066a2fbd9ac0"
      },
      "execution_count": 11,
      "outputs": [
        {
          "output_type": "stream",
          "name": "stdout",
          "text": [
            "Accuracy for training set for Random Forest = 0.98\n",
            "Accuracy for test set for Random Forest = 0.8\n"
          ]
        }
      ]
    },
    {
      "cell_type": "code",
      "source": [
        "# Import các thư viện cần thiết\n",
        "import numpy as np\n",
        "import pandas as pd\n",
        "from sklearn.model_selection import train_test_split\n",
        "from sklearn.ensemble import AdaBoostClassifier\n",
        "from sklearn.metrics import confusion_matrix\n",
        "\n",
        "# Đọc dữ liệu từ file CSV\n",
        "df = pd.read_csv('cleveland.csv', header=None)\n",
        "\n",
        "# Đặt tên cột cho dữ liệu\n",
        "df.columns = ['age', 'sex', 'cp', 'trestbps', 'chol', 'fbs', 'restecg', 'thalach',\n",
        "              'exang', 'oldpeak', 'slope', 'ca', 'thal', 'target']\n",
        "\n",
        "# Chuẩn hóa cột 'target', ánh xạ các giá trị 2, 3, 4 về 1 (bị bệnh) và 0 (không bị bệnh)\n",
        "df['target'] = df['target'].map({0: 0, 1: 1, 2: 1, 3: 1, 4: 1})\n",
        "\n",
        "# Xử lý dữ liệu thiếu\n",
        "df['thal'] = df['thal'].fillna(df['thal'].mean())\n",
        "df['ca'] = df['ca'].fillna(df['ca'].mean())\n",
        "\n",
        "# Phân chia dữ liệu thành X và y\n",
        "X = df.iloc[:, :-1].values  # Các đặc trưng\n",
        "y = df.iloc[:, -1].values  # Nhãn 'target'\n",
        "\n",
        "# Chia tập dữ liệu thành tập huấn luyện và tập kiểm tra\n",
        "X_train, X_test, y_train, y_test = train_test_split(X, y, test_size=0.2, random_state=42)\n",
        "\n",
        "# Khởi tạo và huấn luyện mô hình AdaBoost\n",
        "ada = AdaBoostClassifier(n_estimators=50, learning_rate=1.0, random_state=42)\n",
        "ada.fit(X_train, y_train)\n",
        "\n",
        "# Dự đoán trên tập huấn luyện và tập kiểm tra\n",
        "y_train_pred = ada.predict(X_train)\n",
        "y_test_pred = ada.predict(X_test)\n",
        "\n",
        "# Tính confusion matrix cho tập huấn luyện và tập kiểm tra\n",
        "cm_train = confusion_matrix(y_train, y_train_pred)\n",
        "cm_test = confusion_matrix(y_test, y_test_pred)\n",
        "\n",
        "# Tính độ chính xác cho tập huấn luyện và tập kiểm tra\n",
        "accuracy_for_train = np.round((cm_train[0][0] + cm_train[1][1]) / len(y_train), 2)\n",
        "accuracy_for_test = np.round((cm_test[0][0] + cm_test[1][1]) / len(y_test), 2)\n",
        "\n",
        "# In kết quả độ chính xác\n",
        "print('Accuracy for training set for AdaBoost = {}'.format(accuracy_for_train))\n",
        "print('Accuracy for test set for AdaBoost = {}'.format(accuracy_for_test))\n"
      ],
      "metadata": {
        "colab": {
          "base_uri": "https://localhost:8080/"
        },
        "id": "FK7Fn8qfBKBO",
        "outputId": "d3744035-cfff-407f-ebe0-f18d5db3aa77"
      },
      "execution_count": 12,
      "outputs": [
        {
          "output_type": "stream",
          "name": "stderr",
          "text": [
            "/usr/local/lib/python3.10/dist-packages/sklearn/ensemble/_weight_boosting.py:527: FutureWarning: The SAMME.R algorithm (the default) is deprecated and will be removed in 1.6. Use the SAMME algorithm to circumvent this warning.\n",
            "  warnings.warn(\n"
          ]
        },
        {
          "output_type": "stream",
          "name": "stdout",
          "text": [
            "Accuracy for training set for AdaBoost = 0.91\n",
            "Accuracy for test set for AdaBoost = 0.84\n"
          ]
        }
      ]
    },
    {
      "cell_type": "code",
      "source": [
        "# Import các thư viện cần thiết\n",
        "import numpy as np\n",
        "import pandas as pd\n",
        "from sklearn.model_selection import train_test_split\n",
        "from sklearn.ensemble import GradientBoostingClassifier\n",
        "from sklearn.metrics import confusion_matrix\n",
        "\n",
        "# Đọc dữ liệu từ file CSV\n",
        "df = pd.read_csv('cleveland.csv', header=None)\n",
        "\n",
        "# Đặt tên cột cho dữ liệu\n",
        "df.columns = ['age', 'sex', 'cp', 'trestbps', 'chol', 'fbs', 'restecg', 'thalach',\n",
        "              'exang', 'oldpeak', 'slope', 'ca', 'thal', 'target']\n",
        "\n",
        "# Chuẩn hóa cột 'target', ánh xạ các giá trị 2, 3, 4 về 1 (bị bệnh) và 0 (không bị bệnh)\n",
        "df['target'] = df['target'].map({0: 0, 1: 1, 2: 1, 3: 1, 4: 1})\n",
        "\n",
        "# Xử lý dữ liệu thiếu\n",
        "df['thal'] = df['thal'].fillna(df['thal'].mean())\n",
        "df['ca'] = df['ca'].fillna(df['ca'].mean())\n",
        "\n",
        "# Phân chia dữ liệu thành X và y\n",
        "X = df.iloc[:, :-1].values  # Các đặc trưng\n",
        "y = df.iloc[:, -1].values  # Nhãn 'target'\n",
        "\n",
        "# Chia tập dữ liệu thành tập huấn luyện và tập kiểm tra\n",
        "X_train, X_test, y_train, y_test = train_test_split(X, y, test_size=0.2, random_state=42)\n",
        "\n",
        "# Khởi tạo và huấn luyện mô hình Gradient Boosting\n",
        "gb = GradientBoostingClassifier(learning_rate=0.1, n_estimators=100, subsample=1.0,\n",
        "                                min_samples_split=2, max_depth=3, random_state=42)\n",
        "gb.fit(X_train, y_train)\n",
        "\n",
        "# Dự đoán trên tập huấn luyện và tập kiểm tra\n",
        "y_train_pred = gb.predict(X_train)\n",
        "y_test_pred = gb.predict(X_test)\n",
        "\n",
        "# Tính confusion matrix cho tập huấn luyện và tập kiểm tra\n",
        "cm_train = confusion_matrix(y_train, y_train_pred)\n",
        "cm_test = confusion_matrix(y_test, y_test_pred)\n",
        "\n",
        "# Tính độ chính xác cho tập huấn luyện và tập kiểm tra\n",
        "accuracy_for_train = np.round((cm_train[0][0] + cm_train[1][1]) / len(y_train), 2)\n",
        "accuracy_for_test = np.round((cm_test[0][0] + cm_test[1][1]) / len(y_test), 2)\n",
        "\n",
        "# In kết quả độ chính xác\n",
        "print('Accuracy for training set for Gradient Boost = {}'.format(accuracy_for_train))\n",
        "print('Accuracy for test set for Gradient Boost = {}'.format(accuracy_for_test))\n"
      ],
      "metadata": {
        "colab": {
          "base_uri": "https://localhost:8080/"
        },
        "id": "t1MtbY51BXfI",
        "outputId": "2679b43d-25c7-41c2-d44c-e8ebfcf9c047"
      },
      "execution_count": 13,
      "outputs": [
        {
          "output_type": "stream",
          "name": "stdout",
          "text": [
            "Accuracy for training set for Gradient Boost = 1.0\n",
            "Accuracy for test set for Gradient Boost = 0.85\n"
          ]
        }
      ]
    },
    {
      "cell_type": "code",
      "source": [
        "# Import các thư viện cần thiết\n",
        "import numpy as np\n",
        "import pandas as pd\n",
        "from sklearn.model_selection import train_test_split\n",
        "from xgboost import XGBClassifier\n",
        "from sklearn.metrics import accuracy_score, confusion_matrix\n",
        "\n",
        "# Đọc dữ liệu từ file CSV\n",
        "df = pd.read_csv('cleveland.csv', header=None)\n",
        "\n",
        "# Đặt tên cột cho dữ liệu\n",
        "df.columns = ['age', 'sex', 'cp', 'trestbps', 'chol', 'fbs', 'restecg', 'thalach',\n",
        "              'exang', 'oldpeak', 'slope', 'ca', 'thal', 'target']\n",
        "\n",
        "# Chuẩn hóa cột 'target', ánh xạ các giá trị 2, 3, 4 về 1 (bị bệnh) và 0 (không bị bệnh)\n",
        "df['target'] = df['target'].map({0: 0, 1: 1, 2: 1, 3: 1, 4: 1})\n",
        "\n",
        "# Xử lý dữ liệu thiếu\n",
        "df['thal'] = df['thal'].fillna(df['thal'].mean())\n",
        "df['ca'] = df['ca'].fillna(df['ca'].mean())\n",
        "\n",
        "# Phân chia dữ liệu thành X và y\n",
        "X = df.iloc[:, :-1].values  # Các đặc trưng\n",
        "y = df.iloc[:, -1].values  # Nhãn 'target'\n",
        "\n",
        "# Chia tập dữ liệu thành tập huấn luyện và tập kiểm tra\n",
        "X_train, X_test, y_train, y_test = train_test_split(X, y, test_size=0.2, random_state=42)\n",
        "\n",
        "# Khởi tạo và huấn luyện mô hình XGBoost\n",
        "xgb = XGBClassifier(objective=\"binary:logistic\", n_estimators=100, random_state=42)\n",
        "xgb.fit(X_train, y_train)\n",
        "\n",
        "# Dự đoán trên tập huấn luyện và tập kiểm tra\n",
        "y_train_pred = xgb.predict(X_train)\n",
        "y_test_pred = xgb.predict(X_test)\n",
        "\n",
        "# Tính độ chính xác cho tập huấn luyện và tập kiểm tra\n",
        "accuracy_train = accuracy_score(y_train, y_train_pred)\n",
        "accuracy_test = accuracy_score(y_test, y_test_pred)\n",
        "\n",
        "# In kết quả độ chính xác\n",
        "print(f'Accuracy for training set for XGBoost = {accuracy_train:.2f}')\n",
        "print(f'Accuracy for test set for XGBoost = {accuracy_test:.2f}')\n",
        "\n",
        "\n"
      ],
      "metadata": {
        "colab": {
          "base_uri": "https://localhost:8080/"
        },
        "id": "ONf0CtyXBtj7",
        "outputId": "c9d77ab4-6b41-427c-edcf-723dc2196e37"
      },
      "execution_count": 16,
      "outputs": [
        {
          "output_type": "stream",
          "name": "stdout",
          "text": [
            "Accuracy for training set for XGBoost = 1.00\n",
            "Accuracy for test set for XGBoost = 0.87\n"
          ]
        }
      ]
    },
    {
      "cell_type": "code",
      "source": [
        "# Import các thư viện cần thiết\n",
        "import numpy as np\n",
        "import pandas as pd\n",
        "from sklearn.model_selection import train_test_split\n",
        "from sklearn.ensemble import StackingClassifier\n",
        "from sklearn.tree import DecisionTreeClassifier\n",
        "from sklearn.ensemble import RandomForestClassifier, AdaBoostClassifier, GradientBoostingClassifier\n",
        "from sklearn.neighbors import KNeighborsClassifier\n",
        "from sklearn.svm import SVC\n",
        "from xgboost import XGBClassifier\n",
        "from sklearn.metrics import accuracy_score, confusion_matrix\n",
        "\n",
        "# Đọc dữ liệu từ file CSV\n",
        "df = pd.read_csv('cleveland.csv', header=None)\n",
        "\n",
        "# Đặt tên cột cho dữ liệu\n",
        "df.columns = ['age', 'sex', 'cp', 'trestbps', 'chol', 'fbs', 'restecg', 'thalach',\n",
        "              'exang', 'oldpeak', 'slope', 'ca', 'thal', 'target']\n",
        "\n",
        "# Chuẩn hóa cột 'target', ánh xạ các giá trị 2, 3, 4 về 1 (bị bệnh) và 0 (không bị bệnh)\n",
        "df['target'] = df['target'].map({0: 0, 1: 1, 2: 1, 3: 1, 4: 1})\n",
        "\n",
        "# Xử lý dữ liệu thiếu\n",
        "df['thal'] = df['thal'].fillna(df['thal'].mean())\n",
        "df['ca'] = df['ca'].fillna(df['ca'].mean())\n",
        "\n",
        "# Phân chia dữ liệu thành X và y\n",
        "X = df.iloc[:, :-1].values  # Các đặc trưng\n",
        "y = df.iloc[:, -1].values  # Nhãn 'target'\n",
        "\n",
        "# Chia tập dữ liệu thành tập huấn luyện và tập kiểm tra\n",
        "X_train, X_test, y_train, y_test = train_test_split(X, y, test_size=0.2, random_state=42)\n",
        "\n",
        "# Khởi tạo các mô hình base learners\n",
        "dtc = DecisionTreeClassifier(random_state=42)\n",
        "rfc = RandomForestClassifier(random_state=42)\n",
        "knn = KNeighborsClassifier()\n",
        "xgb = XGBClassifier(random_state=42)\n",
        "gc = GradientBoostingClassifier(random_state=42)\n",
        "svc = SVC(kernel='rbf', random_state=42, probability=True)\n",
        "ad = AdaBoostClassifier(random_state=42)\n",
        "\n",
        "# Khởi tạo mô hình stacking\n",
        "estimators = [\n",
        "    ('decision_tree', dtc),\n",
        "    ('random_forest', rfc),\n",
        "    ('knn', knn),\n",
        "    ('xgboost', xgb),\n",
        "    ('gradient_boosting', gc),\n",
        "    ('svc', svc),\n",
        "    ('adaboost', ad)\n",
        "]\n",
        "\n",
        "# Mô hình meta-classifier (mô hình cuối cùng)\n",
        "stacking_clf = StackingClassifier(estimators=estimators, final_estimator=RandomForestClassifier(), cv=5)\n",
        "\n",
        "# Huấn luyện mô hình Stacking\n",
        "stacking_clf.fit(X_train, y_train)\n",
        "\n",
        "# Dự đoán trên tập huấn luyện và tập kiểm tra\n",
        "y_train_pred = stacking_clf.predict(X_train)\n",
        "y_test_pred = stacking_clf.predict(X_test)\n",
        "\n",
        "# Tính độ chính xác cho tập huấn luyện và tập kiểm tra\n",
        "accuracy_for_train = accuracy_score(y_train, y_train_pred)\n",
        "accuracy_for_test = accuracy_score(y_test, y_test_pred)\n",
        "\n",
        "# In kết quả độ chính xác\n",
        "print(f'Accuracy for training set for Stacking = {accuracy_for_train:.2f}')\n",
        "print(f'Accuracy for test set for Stacking = {accuracy_for_test:.2f}')\n",
        "\n",
        "# Tính và in confusion matrix\n",
        "cm_train = confusion_matrix(y_train, y_train_pred)\n",
        "cm_test = confusion_matrix(y_test, y_test_pred)\n",
        "print(\"Confusion matrix for training set:\\n\", cm_train)\n",
        "print(\"Confusion matrix for test set:\\n\", cm_test)\n"
      ],
      "metadata": {
        "colab": {
          "base_uri": "https://localhost:8080/"
        },
        "id": "CrNpib5bCKQO",
        "outputId": "56ecb98c-23c8-4fc0-9acc-6a2666bf6cd9"
      },
      "execution_count": 18,
      "outputs": [
        {
          "output_type": "stream",
          "name": "stderr",
          "text": [
            "/usr/local/lib/python3.10/dist-packages/sklearn/ensemble/_weight_boosting.py:527: FutureWarning: The SAMME.R algorithm (the default) is deprecated and will be removed in 1.6. Use the SAMME algorithm to circumvent this warning.\n",
            "  warnings.warn(\n",
            "/usr/local/lib/python3.10/dist-packages/sklearn/ensemble/_weight_boosting.py:527: FutureWarning: The SAMME.R algorithm (the default) is deprecated and will be removed in 1.6. Use the SAMME algorithm to circumvent this warning.\n",
            "  warnings.warn(\n",
            "/usr/local/lib/python3.10/dist-packages/sklearn/ensemble/_weight_boosting.py:527: FutureWarning: The SAMME.R algorithm (the default) is deprecated and will be removed in 1.6. Use the SAMME algorithm to circumvent this warning.\n",
            "  warnings.warn(\n",
            "/usr/local/lib/python3.10/dist-packages/sklearn/ensemble/_weight_boosting.py:527: FutureWarning: The SAMME.R algorithm (the default) is deprecated and will be removed in 1.6. Use the SAMME algorithm to circumvent this warning.\n",
            "  warnings.warn(\n",
            "/usr/local/lib/python3.10/dist-packages/sklearn/ensemble/_weight_boosting.py:527: FutureWarning: The SAMME.R algorithm (the default) is deprecated and will be removed in 1.6. Use the SAMME algorithm to circumvent this warning.\n",
            "  warnings.warn(\n",
            "/usr/local/lib/python3.10/dist-packages/sklearn/ensemble/_weight_boosting.py:527: FutureWarning: The SAMME.R algorithm (the default) is deprecated and will be removed in 1.6. Use the SAMME algorithm to circumvent this warning.\n",
            "  warnings.warn(\n"
          ]
        },
        {
          "output_type": "stream",
          "name": "stdout",
          "text": [
            "Accuracy for training set for Stacking = 0.99\n",
            "Accuracy for test set for Stacking = 0.89\n",
            "Confusion matrix for training set:\n",
            " [[134   1]\n",
            " [  2 105]]\n",
            "Confusion matrix for test set:\n",
            " [[27  2]\n",
            " [ 5 27]]\n"
          ]
        }
      ]
    },
    {
      "cell_type": "code",
      "source": [],
      "metadata": {
        "id": "W9hP_yjcC796"
      },
      "execution_count": null,
      "outputs": []
    }
  ]
}